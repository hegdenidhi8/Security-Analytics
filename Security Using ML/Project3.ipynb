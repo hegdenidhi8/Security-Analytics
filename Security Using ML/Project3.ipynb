{
  "cells": [
    {
      "cell_type": "markdown",
      "metadata": {
        "id": "8_wOp6Cg7CaN"
      },
      "source": [
        "# Assignment 1"
      ]
    },
    {
      "cell_type": "code",
      "execution_count": 17,
      "metadata": {
        "id": "9yTkf8ML7CaP"
      },
      "outputs": [],
      "source": [
        "# Imports.\n",
        "import random\n",
        "import network.network as Network\n",
        "import network.mnist_loader as mnist_loader\n",
        "import pickle\n",
        "import matplotlib.pyplot as plt\n",
        "import numpy as np\n",
        "import os\n",
        "\n",
        "# Set the random seed. DO NOT CHANGE THIS!\n",
        "seedVal = 41\n",
        "random.seed(seedVal)\n",
        "np.random.seed(seedVal)\n",
        "\n",
        "%matplotlib inline"
      ]
    },
    {
      "cell_type": "markdown",
      "metadata": {
        "id": "U73TI37Q7CaQ"
      },
      "source": [
        "Use a pre-trained network. It has been saved as a pickle file. Load the model, and continue.\n",
        "The network has only one hidden layer of 30 units, 784 input units (MNIST images are $ 28 \\times 28 = 784 $ pixels large), and 10 output units. All the activations are sigmoidal."
      ]
    },
    {
      "cell_type": "code",
      "execution_count": 18,
      "metadata": {
        "colab": {
          "base_uri": "https://localhost:8080/",
          "height": 0
        },
        "id": "8glfCE9E7CaQ",
        "outputId": "81e42ded-3e04-4a18-d992-1a83da966f6e"
      },
      "outputs": [
        {
          "output_type": "stream",
          "name": "stdout",
          "text": [
            "Mounted at /content/drive\n"
          ]
        }
      ],
      "source": [
        "# Load the pre-trained model.\n",
        "from google.colab import drive\n",
        "drive.mount(\"/content/drive\", force_remount=True)\n",
        "! rm -r /content/drive/MyDrive/HW3\n",
        "os.mkdir(\"/content/drive/MyDrive/HW3\")\n",
        "trained_network = os.path.join('/content/drive/MyDrive/network/','trained_network.pkl')\n",
        "with open(trained_network, 'rb') as f:\n",
        "    u = pickle._Unpickler(f)\n",
        "    u.encoding = 'latin1'\n",
        "    net = u.load()\n",
        "\n",
        "# Helpful function to load the MNIST data.\n",
        "training_data, validation_data, test_data = mnist_loader.load_data_wrapper()"
      ]
    },
    {
      "cell_type": "markdown",
      "metadata": {
        "id": "0Q6Pitzc7CaR"
      },
      "source": [
        "The neural network is pretrained, so it should already be set up to predict characters. Run `predict(n)` to evaluate the $ n^{th} $ digit in the test set using the network. You should see that even this relatively simple network works really well (~97% accuracy). The output of the network is a one-hot vector indicating the network's predictions:"
      ]
    },
    {
      "cell_type": "code",
      "execution_count": 19,
      "metadata": {
        "colab": {
          "base_uri": "https://localhost:8080/",
          "height": 698
        },
        "id": "vMUzarSy7CaR",
        "outputId": "0f1b9e28-065f-4f72-d988-fe5b43346148"
      },
      "outputs": [
        {
          "output_type": "stream",
          "name": "stdout",
          "text": [
            "Network output: \n",
            "[[0.  ]\n",
            " [0.98]\n",
            " [0.  ]\n",
            " [0.67]\n",
            " [0.  ]\n",
            " [0.  ]\n",
            " [0.  ]\n",
            " [0.  ]\n",
            " [0.  ]\n",
            " [0.  ]]\n",
            "\n",
            "Network prediction: 1\n",
            "\n",
            "Actual image: \n"
          ]
        },
        {
          "output_type": "display_data",
          "data": {
            "text/plain": [
              "<Figure size 640x480 with 1 Axes>"
            ],
            "image/png": "[encoded data removed]"
          },
          "metadata": {}
        }
      ],
      "source": [
        "def predict(n):\n",
        "    # Get the data from the test set\n",
        "    x = test_data[n][0]\n",
        "\n",
        "    # Print the prediction of the network\n",
        "    print('Network output: \\n' + str(np.round(net.feedforward(x), 2)) + '\\n')\n",
        "    print('Network prediction: ' + str(np.argmax(net.feedforward(x))) + '\\n')\n",
        "    print('Actual image: ')\n",
        "\n",
        "    # Draw the image\n",
        "    plt.imshow(x.reshape((28,28)), cmap='Greys')\n",
        "\n",
        "# Replace the argument with any number between 0 and 9999\n",
        "predict(900)"
      ]
    },
    {
      "cell_type": "markdown",
      "metadata": {
        "id": "vh2MFntp7CaR"
      },
      "source": [
        "To actually generate adversarial examples we solve a minimization problem. We do this by setting a \"goal\" label called $ \\vec y_{goal} $ (for instance, if we wanted the network to think the adversarial image is an 8, then we would choose $ \\vec y_{goal} $ to be a one-hot vector with the eighth entry being 1). Now we define a cost function:\n",
        "\n",
        "$$ C = \\frac{1}{2} \\|\\vec y_{goal} - \\hat y(\\vec x)\\|^2_2 $$\n",
        "\n",
        "where $ \\| \\cdot \\|^2_2 $ is the squared Euclidean norm and $ \\hat y $ is the network's output. It is a function of $ \\vec x $, the input image to the network, so we write $ \\hat y(\\vec x) $. Our goal is to find an $ \\vec x $ such that $ C $ is minimized. Hopefully this makes sense, because if we find an image $ \\vec x $ that minimizes $ C $ then that means the output of the network when given $ \\vec x $ is close to our desired output, $ \\vec y_{goal} $. So in full mathy language, our optimization problem is:\n",
        "\n",
        "$$ \\arg \\min_{\\vec x} C(\\vec x) $$\n",
        "\n",
        "that is, find the $ \\vec x $ that minimizes the cost $ C $.\n",
        "\n",
        "To actually do this we can do gradient descent on $ C $. Start with an initially random vector $ \\vec x $ and take steps (changing $ \\vec x $) gradually in the direction opposite of the gradient $ \\nabla_x C $. To actually get these derivatives we can perform backpropagation on the network. In contrast to training a network, where we perform gradient descent on the weights and biases, when we create adversarial examples we hold the weights and biases constant (because we don't want to change the network!), and change the inputs to our network."
      ]
    },
    {
      "cell_type": "markdown",
      "metadata": {
        "id": "dtGZpB3s7CaR"
      },
      "source": [
        "Helper functions to evaluate the non-linearity and it's derivative:"
      ]
    },
    {
      "cell_type": "code",
      "execution_count": 20,
      "metadata": {
        "id": "yvo0eaYN7CaR"
      },
      "outputs": [],
      "source": [
        "def sigmoid(z):\n",
        "    \"\"\"The sigmoid function.\"\"\"\n",
        "    return 1.0/(1.0+np.exp(-z))\n",
        "\n",
        "def sigmoid_prime(z):\n",
        "    \"\"\"Derivative of the sigmoid function.\"\"\"\n",
        "    return sigmoid(z)*(1-sigmoid(z))"
      ]
    },
    {
      "cell_type": "markdown",
      "metadata": {
        "id": "qL3cGT9N7CaS"
      },
      "source": [
        "Also, a function to find the gradient derivatives of the cost function, $ \\nabla_x C $ with respect to the input $ \\vec x $, with a goal label of $ \\vec y_{goal} $. (Don't worry too much about the implementation, just know it calculates derivatives)."
      ]
    },
    {
      "cell_type": "code",
      "execution_count": 21,
      "metadata": {
        "id": "oL5kbJi17CaS"
      },
      "outputs": [],
      "source": [
        "def input_derivative(net, x, y):\n",
        "    \"\"\" Calculate derivatives wrt the inputs\"\"\"\n",
        "    nabla_b = [np.zeros(b.shape) for b in net.biases]\n",
        "    nabla_w = [np.zeros(w.shape) for w in net.weights]\n",
        "\n",
        "    # feedforward\n",
        "    activation = x\n",
        "    activations = [x] # list to store all the activations, layer by layer\n",
        "    zs = [] # list to store all the z vectors, layer by layer\n",
        "    for b, w in zip(net.biases, net.weights):\n",
        "        z = np.dot(w, activation)+b\n",
        "        zs.append(z)\n",
        "        activation = sigmoid(z)\n",
        "        activations.append(activation)\n",
        "\n",
        "    # backward pass\n",
        "    delta = net.cost_derivative(activations[-1], y) * \\\n",
        "        sigmoid_prime(zs[-1])\n",
        "    nabla_b[-1] = delta\n",
        "    nabla_w[-1] = np.dot(delta, activations[-2].transpose())\n",
        "\n",
        "    for l in range(2, net.num_layers):\n",
        "        z = zs[-l]\n",
        "        sp = sigmoid_prime(z)\n",
        "        delta = np.dot(net.weights[-l+1].transpose(), delta) * sp\n",
        "        nabla_b[-l] = delta\n",
        "        nabla_w[-l] = np.dot(delta, activations[-l-1].transpose())\n",
        "\n",
        "    # Return derivatives WRT to input\n",
        "    return net.weights[0].T.dot(delta)"
      ]
    },
    {
      "cell_type": "markdown",
      "metadata": {
        "id": "HA-G-kyc7CaS"
      },
      "source": [
        "The actual function that generates adversarial examples and a wrapper function:"
      ]
    },
    {
      "cell_type": "markdown",
      "metadata": {
        "id": "BmBBnLFV7CaS"
      },
      "source": [
        "## (a) Non Targeted Attack"
      ]
    },
    {
      "cell_type": "code",
      "execution_count": 22,
      "metadata": {
        "id": "kybg87io7CaS"
      },
      "outputs": [],
      "source": [
        "def nonTargetedAdversarial(net, n, steps, eta):\n",
        "    \"\"\"\n",
        "    net : network object\n",
        "        neural network instance to use\n",
        "    n : integer\n",
        "        our goal label (just an int, the function transforms it into a one-hot vector)\n",
        "    steps : integer\n",
        "        number of steps for gradient descent\n",
        "    eta : float\n",
        "        step size for gradient descent\n",
        "    \"\"\"\n",
        "\n",
        "    # Set the goal output\n",
        "    goal = np.zeros((10, 1))\n",
        "    goal[n] = 1\n",
        "\n",
        "    # Create a random image to initialize gradient descent with\n",
        "    x = np.random.randn(784, 1)\n",
        "\n",
        "    # Gradient descent on the input\n",
        "    for i in range(steps):\n",
        "        # Calculate the derivative\n",
        "        delta_x = input_derivative(net, x, goal)\n",
        "\n",
        "        # The GD update on x\n",
        "        x -= eta * delta_x\n",
        "\n",
        "    return x\n",
        "\n",
        "\n",
        "# Wrapper function\n",
        "def generate(net,n):\n",
        "    \"\"\"\n",
        "    n : integer\n",
        "        goal label (not a one-hot vector)\n",
        "    \"\"\"\n",
        "\n",
        "    # Find the vector x with the above function that you just wrote.\n",
        "    x = nonTargetedAdversarial(net, n, steps=1000, eta=0.1)\n",
        "\n",
        "    # Pass the generated image (vector) to the neural network. Perform a forward pass, and get the prediction.\n",
        "    prediction = net.feedforward(x)\n",
        "\n",
        "    print('Network Output: \\n' + str(np.round(prediction, 2)) + '\\n')\n",
        "    print('Network Prediction: ' + str(np.argmax(prediction)) + '\\n')\n",
        "    print('Adversarial Example: ')\n",
        "\n",
        "    plt.imshow(x.reshape(28, 28), cmap='Greys')"
      ]
    },
    {
      "cell_type": "markdown",
      "metadata": {
        "id": "Vhb0G7Gu7CaS"
      },
      "source": [
        "Now let's generate some adversarial examples! Use the function provided to mess around with the neural network. (For some inputs gradient descent doesn't always converge; 0 and 5 seem to work pretty well though. I suspect convergence is very highly dependent on our choice of random initial $ \\vec x $. We'll see later in the notebook if we force the adversarial example to \"look like\" a handwritten digit, convergence is much more likely. In a sense we will be adding regularization to our generation process)."
      ]
    },
    {
      "cell_type": "code",
      "execution_count": 43,
      "metadata": {
        "colab": {
          "base_uri": "https://localhost:8080/",
          "height": 698
        },
        "id": "82Rqkcqz7CaS",
        "outputId": "2269c642-1ee9-4241-f324-78ea0df7c162"
      },
      "outputs": [
        {
          "output_type": "stream",
          "name": "stdout",
          "text": [
            "Network Output: \n",
            "[[0.  ]\n",
            " [0.  ]\n",
            " [0.  ]\n",
            " [0.  ]\n",
            " [0.01]\n",
            " [1.  ]\n",
            " [0.  ]\n",
            " [0.  ]\n",
            " [0.  ]\n",
            " [0.  ]]\n",
            "\n",
            "Network Prediction: 5\n",
            "\n",
            "Adversarial Example: \n"
          ]
        },
        {
          "output_type": "display_data",
          "data": {
            "text/plain": [
              "<Figure size 640x480 with 1 Axes>"
            ],
            "image/png": "[encoded data removed]"
          },
          "metadata": {}
        }
      ],
      "source": [
        "generate(net,2)"
      ]
    },
    {
      "cell_type": "markdown",
      "metadata": {
        "id": "yOkaFctJ7CaS"
      },
      "source": [
        "## (b) Targeted Attack(s)"
      ]
    },
    {
      "cell_type": "markdown",
      "metadata": {
        "id": "CFDxR9ii7CaS"
      },
      "source": [
        "Sweet! We've just managed to create an image that looks utterly meaningless to a human, but the neural network thinks is a '5' with very high certainty. We can actually take this a bit further. Let's generate an image that looks like one number, but the neural network is certain is another. To do this we will modify our cost function a bit. Instead of just optimizing the input image, $ \\vec x $, to get a desired output label, we'll also optimize the input to look like a certain image, $ \\vec x_{target} $, at the same time. Our new cost function will be\n",
        "\n",
        "$$ C = \\|\\vec y_{goal} - y_{hat}(\\vec x)\\|^2_2 + \\lambda \\|\\vec x - \\vec x_{target}\\|^2_2 $$\n",
        "\n",
        "The added term tells us the distance from our $ \\vec x $ and some $ \\vec x_{target} $ (which is the image we want our adversarial example to look like). Because we want to minimize $ C $, we also want to minimize the distance between our adversarial example and this image. The $ \\lambda $ is hyperparameter that we can tune; it determines which is more important: optimizing for the desired output or optimizing for an image that looks like $ \\vec x_{target} $.\n",
        "\n",
        "If you are familiar with ridge regularization, the above cost function might look suspiciously like the ridge regression cost function. In fact, we can view this generation method as giving our model a prior, centered on our target image.\n",
        "\n",
        "Here is a function that implements optimizing the modified cost function, called `sneaky_adversarial` (because it is very sneaky). Note that the only difference between this function and `adversarial` is an additional term on the gradient descent update for the regularization term:"
      ]
    },
    {
      "cell_type": "code",
      "execution_count": 24,
      "metadata": {
        "id": "nF6W22RS7CaT"
      },
      "outputs": [],
      "source": [
        "def targetedAdversarial(net, n, x_target, steps, eta, lam=.05):\n",
        "    \"\"\"\n",
        "    net : network object\n",
        "        neural network instance to use\n",
        "    n : integer\n",
        "        our goal label (just an int, the function transforms it into a one-hot vector)\n",
        "    x_target : numpy vector\n",
        "        our goal image for the adversarial example\n",
        "    steps : integer\n",
        "        number of steps for gradient descent\n",
        "    eta : float\n",
        "        step size for gradient descent\n",
        "    lam : float\n",
        "        lambda, our regularization parameter. Default is .05\n",
        "    \"\"\"\n",
        "\n",
        "    # Set the goal output\n",
        "    goal = np.zeros((10, 1))\n",
        "    goal[n] = 1\n",
        "\n",
        "    # Create a random image to initialize gradient descent with\n",
        "    x = np.random.randn(784, 1)\n",
        "\n",
        "    # Gradient descent on the input\n",
        "    for i in range(steps):\n",
        "        # Calculate the derivative\n",
        "        delta_x = input_derivative(net, x, goal)\n",
        "\n",
        "        # The GD update on x, with an added penalty to the cost function\n",
        "        x = x - eta * (delta_x + lam * (x - x_target))\n",
        "\n",
        "    return x\n",
        "\n",
        "# Wrapper function\n",
        "def generate_advSample(n, m):\n",
        "    \"\"\"\n",
        "    n: int 0-9, the target number to match\n",
        "    m: index of example image to use (from the test set)\n",
        "    \"\"\"\n",
        "\n",
        "    # Find random instance of m in test set\n",
        "    idx = np.random.randint(0,8000)\n",
        "    while test_data[idx][1] != m:\n",
        "        idx += 1\n",
        "\n",
        "    # Hardcode the parameters for the wrapper function\n",
        "    a = targetedAdversarial(net, n, test_data[idx][0], 100, 1)\n",
        "    x = np.round(net.feedforward(a), 2)\n",
        "\n",
        "    print('\\nWhat we want our adversarial example to look like: ')\n",
        "    plt.imshow(test_data[idx][0].reshape((28,28)), cmap='Greys')\n",
        "    plt.show()\n",
        "\n",
        "    print('\\n')\n",
        "\n",
        "    print('Adversarial Example: ')\n",
        "\n",
        "    plt.imshow(a.reshape(28,28), cmap='Greys')\n",
        "    plt.show()\n",
        "\n",
        "    print('Network Prediction: ' + str(np.argmax(x)) + '\\n')\n",
        "\n",
        "    print('Network Output: \\n' + str(x) + '\\n')\n",
        "\n",
        "    return a"
      ]
    },
    {
      "cell_type": "markdown",
      "metadata": {
        "id": "qtyGbU_u7CaT"
      },
      "source": [
        "Play around with this function to make \"sneaky\" adversarial examples! (Again, some numbers converge better than others... try 0, 2, 3, 5, 6, or 8 as a target label. 1, 4, 7, and 9 still don't work as well... no idea why... We get more numbers that converge because we've added regularization term to our cost function. Perhaps changing $ \\lambda $ will get more to converge?)"
      ]
    },
    {
      "cell_type": "code",
      "execution_count": 26,
      "metadata": {
        "colab": {
          "base_uri": "https://localhost:8080/",
          "height": 1038
        },
        "id": "Ymo9LCeY7CaT",
        "outputId": "cfe8cb7a-a8e8-49fa-9f76-5b126500ec6f"
      },
      "outputs": [
        {
          "output_type": "stream",
          "name": "stdout",
          "text": [
            "\n",
            "What we want our adversarial example to look like: \n"
          ]
        },
        {
          "output_type": "display_data",
          "data": {
            "text/plain": [
              "<Figure size 640x480 with 1 Axes>"
            ],
            "image/png": "[encoded data removed]"
          },
          "metadata": {}
        },
        {
          "output_type": "stream",
          "name": "stdout",
          "text": [
            "\n",
            "\n",
            "Adversarial Example: \n"
          ]
        },
        {
          "output_type": "display_data",
          "data": {
            "text/plain": [
              "<Figure size 640x480 with 1 Axes>"
            ],
            "image/png": "[encoded data removed]"
          },
          "metadata": {}
        },
        {
          "output_type": "stream",
          "name": "stdout",
          "text": [
            "Network Prediction: 8\n",
            "\n",
            "Network Output: \n",
            "[[0.  ]\n",
            " [0.  ]\n",
            " [0.01]\n",
            " [0.  ]\n",
            " [0.  ]\n",
            " [0.  ]\n",
            " [0.  ]\n",
            " [0.  ]\n",
            " [0.99]\n",
            " [0.  ]]\n",
            "\n"
          ]
        }
      ],
      "source": [
        "# generate_advSample(target label, target digit)\n",
        "adv_ex = generate_advSample(8,2)"
      ]
    },
    {
      "cell_type": "markdown",
      "metadata": {
        "id": "V7PXZv8q7CaT"
      },
      "source": [
        "## (c) Protection against adversarial attacks"
      ]
    },
    {
      "cell_type": "markdown",
      "metadata": {
        "id": "G1q7lxdn7CaT"
      },
      "source": [
        "Awesome! We’ve just created images that trick neural networks. The next question we could ask is whether or not we could protect against these kinds of attacks. If you look closely at the original images and the adversarial examples you’ll see that the adversarial examples have some sort of grey tinged background."
      ]
    },
    {
      "cell_type": "markdown",
      "metadata": {
        "id": "RFB_Y_sb7CaU"
      },
      "source": [
        "So how could we protect against these adversarial attacks? One very simple way would be to use binary thresholding. Set a pixel as completely black or completely white depending on a threshold. This should remove the \"noise\" that's always present in the adversarial images. Let's see if it works:"
      ]
    },
    {
      "cell_type": "code",
      "execution_count": 27,
      "metadata": {
        "id": "uNVXHePh7CaU"
      },
      "outputs": [],
      "source": [
        "def simple_defense(n, m):\n",
        "    \"\"\"\n",
        "    n: int 0-9, the target number to match\n",
        "    m: index of example image to use (from the test set)\n",
        "    \"\"\"\n",
        "\n",
        "    # Generate an adversarial sample.\n",
        "    x = generate_advSample(n, m)\n",
        "\n",
        "    # Perform binary thresholding on the generated sample. You can choose the threshold as 0.5.\n",
        "    threshold = 0.5\n",
        "    x_binary = np.where(x > threshold, 1, 0)\n",
        "\n",
        "    print(\"With binary thresholding: \")\n",
        "\n",
        "    # Plot a grayscale image of the binarized generated sample.\n",
        "    plt.imshow(x_binary.reshape(28, 28), cmap='Greys')\n",
        "    plt.show()\n",
        "\n",
        "    # Print the network's predictions.\n",
        "    prediction_binary = net.feedforward(x_binary)\n",
        "    print(\"Prediction with binary thresholding: \" + str(np.argmax(prediction_binary)) + '\\n')\n",
        "\n",
        "\n",
        "    # The output of the network.\n",
        "    print(\"Network output: \")\n",
        "    print(prediction_binary)"
      ]
    },
    {
      "cell_type": "code",
      "execution_count": 158,
      "metadata": {
        "colab": {
          "base_uri": "https://localhost:8080/",
          "height": 1618
        },
        "id": "K6bZq2Ct7CaU",
        "outputId": "de6856ef-59f8-4313-abbf-7872815f17df"
      },
      "outputs": [
        {
          "output_type": "stream",
          "name": "stdout",
          "text": [
            "\n",
            "What we want our adversarial example to look like: \n"
          ]
        },
        {
          "output_type": "display_data",
          "data": {
            "text/plain": [
              "<Figure size 640x480 with 1 Axes>"
            ],
            "image/png": "[encoded data removed]"
          },
          "metadata": {}
        },
        {
          "output_type": "stream",
          "name": "stdout",
          "text": [
            "\n",
            "\n",
            "Adversarial Example: \n"
          ]
        },
        {
          "output_type": "display_data",
          "data": {
            "text/plain": [
              "<Figure size 640x480 with 1 Axes>"
            ],
            "image/png": "[encoded data removed]"
          },
          "metadata": {}
        },
        {
          "output_type": "stream",
          "name": "stdout",
          "text": [
            "Network Prediction: 2\n",
            "\n",
            "Network Output: \n",
            "[[0.  ]\n",
            " [0.  ]\n",
            " [1.  ]\n",
            " [0.01]\n",
            " [0.  ]\n",
            " [0.  ]\n",
            " [0.  ]\n",
            " [0.  ]\n",
            " [0.  ]\n",
            " [0.  ]]\n",
            "\n",
            "With binary thresholding: \n"
          ]
        },
        {
          "output_type": "display_data",
          "data": {
            "text/plain": [
              "<Figure size 640x480 with 1 Axes>"
            ],
            "image/png": "[encoded data removed]"
          },
          "metadata": {}
        },
        {
          "output_type": "stream",
          "name": "stdout",
          "text": [
            "Prediction with binary thresholding: 3\n",
            "\n",
            "Network output: \n",
            "[[6.18309461e-08]\n",
            " [1.83020143e-06]\n",
            " [7.62446284e-12]\n",
            " [9.99998840e-01]\n",
            " [4.58796067e-09]\n",
            " [1.80161650e-06]\n",
            " [4.32319281e-06]\n",
            " [1.97477438e-05]\n",
            " [4.61396460e-07]\n",
            " [2.72635270e-08]]\n"
          ]
        }
      ],
      "source": [
        "# binary_thresholding(target digit, actual digit)\n",
        "simple_defense(2, 3)"
      ]
    },
    {
      "cell_type": "markdown",
      "metadata": {
        "id": "l3SUawiF7CaU"
      },
      "source": [
        "Looks like it works pretty well! However, note that most adversarial attacks, especially on convolutional neural networks trained on massive full color image sets such as imagenet, can't be defended against by a simple binary threshold."
      ]
    },
    {
      "cell_type": "markdown",
      "metadata": {
        "id": "BDfm7zG77CaU"
      },
      "source": [
        "## Adversarial Training"
      ]
    },
    {
      "cell_type": "markdown",
      "metadata": {
        "id": "PGJJkC4e7CaU"
      },
      "source": [
        "Looks like it works pretty well! However, note that most adversarial attacks, especially on convolutional neural networks trained on massive full color image sets such as imagenet, can't be defended against by a simple binary threshold.\n",
        "\n",
        "We could try one more thing that might be a bit more universal to protect our neural network against adversarial attacks. If we had access to the adversarial attack method (which we do in this case, because we're the ones implementing the attack) we could create a ton of adversarial examples, mix that up with our training dataset with the correct labels, and then retrain a network on this augmented dataset. The retrained network should learn to ignore the adversarial attacks. Here we implement a function to do just that."
      ]
    },
    {
      "cell_type": "code",
      "execution_count": 28,
      "metadata": {
        "id": "yOTfY7os7CaU"
      },
      "outputs": [],
      "source": [
        "def augment_data(n, data, steps):\n",
        "    \"\"\"\n",
        "    n : integer\n",
        "        number of adversarial examples to generate\n",
        "    data : list of tuples\n",
        "        data set to generate adversarial examples using\n",
        "    \"\"\"\n",
        "    # Our augmented training set:\n",
        "    augmented = []\n",
        "\n",
        "    for i in range(n):\n",
        "        # Progress \"bar\"\n",
        "        if i % 500 == 0:\n",
        "            print(\"Generated digits: \" + str(i))\n",
        "\n",
        "        # Randomly choose a digit that the example will look like\n",
        "        rnd_actual_digit = np.random.randint(10)\n",
        "\n",
        "        # Find random instance of rnd_actual_digit in the training set\n",
        "        rnd_actual_idx = np.random.choice([idx for idx, label in enumerate(data) if np.argmax(label[1]) == rnd_actual_digit])\n",
        "\n",
        "        # TODO : Find a random instance of rnd_actual_digit in the training set.\n",
        "\n",
        "        x_target, y_actual = data[rnd_actual_idx]\n",
        "\n",
        "        true_digit_label = y_actual.squeeze().tolist().index(1)\n",
        "\n",
        "        # Choose a value for the adversarial attack\n",
        "        while True:\n",
        "            rnd_fake_digit = np.random.randint(10)\n",
        "            if rnd_fake_digit != true_digit_label: break\n",
        "\n",
        "        # Generate adversarial example\n",
        "        x_adversarial = targetedAdversarial(net, rnd_fake_digit, x_target, steps, 1)\n",
        "\n",
        "        # Add new data\n",
        "        augmented.append((x_adversarial, y_actual))\n",
        "\n",
        "    return data + augmented"
      ]
    },
    {
      "cell_type": "code",
      "execution_count": 29,
      "metadata": {
        "colab": {
          "base_uri": "https://localhost:8080/",
          "height": 0
        },
        "id": "vlbYTffM7CaU",
        "outputId": "f2d88ab3-d66b-48cb-93c3-95da161d9385"
      },
      "outputs": [
        {
          "output_type": "stream",
          "name": "stdout",
          "text": [
            "Generated digits: 0\n",
            "Generated digits: 500\n",
            "Generated digits: 1000\n",
            "Generated digits: 1500\n",
            "Generated digits: 2000\n",
            "Generated digits: 2500\n",
            "Generated digits: 3000\n",
            "Generated digits: 3500\n",
            "Generated digits: 4000\n",
            "Generated digits: 4500\n",
            "Generated digits: 5000\n",
            "Generated digits: 5500\n",
            "Generated digits: 6000\n",
            "Generated digits: 6500\n",
            "Generated digits: 7000\n",
            "Generated digits: 7500\n",
            "Generated digits: 8000\n",
            "Generated digits: 8500\n",
            "Generated digits: 9000\n",
            "Generated digits: 9500\n"
          ]
        }
      ],
      "source": [
        "# Try 10000 examples first if you don't want to wait for a long time!\n",
        "augmented = augment_data(10000, training_data, 100)"
      ]
    },
    {
      "cell_type": "markdown",
      "metadata": {
        "id": "CR21E7D37CaU"
      },
      "source": [
        "Now let's check to make sure our augmented dataset actually makes sense. Here we have a function that checks the $ i^{th} $ example in our augmented set."
      ]
    },
    {
      "cell_type": "code",
      "execution_count": 35,
      "metadata": {
        "id": "UxJCdLHw7CaU",
        "colab": {
          "base_uri": "https://localhost:8080/",
          "height": 912
        },
        "outputId": "d6e12db1-b5ad-477a-8728-280d358623fe"
      },
      "outputs": [
        {
          "output_type": "stream",
          "name": "stdout",
          "text": [
            "Image: \n",
            "\n"
          ]
        },
        {
          "output_type": "display_data",
          "data": {
            "text/plain": [
              "<Figure size 640x480 with 1 Axes>"
            ],
            "image/png": "[encoded data removed]"
          },
          "metadata": {}
        },
        {
          "output_type": "stream",
          "name": "stdout",
          "text": [
            "Original network prediction: \n",
            "\n",
            "[[0.]\n",
            " [0.]\n",
            " [0.]\n",
            " [0.]\n",
            " [0.]\n",
            " [1.]\n",
            " [0.]\n",
            " [0.]\n",
            " [0.]\n",
            " [0.]]\n",
            "\n",
            "Label: \n",
            "\n",
            "[[0.]\n",
            " [0.]\n",
            " [0.]\n",
            " [0.]\n",
            " [0.]\n",
            " [1.]\n",
            " [0.]\n",
            " [0.]\n",
            " [0.]\n",
            " [0.]]\n"
          ]
        }
      ],
      "source": [
        "def check_augmented(i, augmented):\n",
        "    # Show image\n",
        "    print('Image: \\n')\n",
        "    plt.imshow(augmented[i][0].reshape(28,28), cmap='Greys')\n",
        "    plt.show()\n",
        "\n",
        "    # Show original network prediction\n",
        "    print('Original network prediction: \\n')\n",
        "    print(np.round(net.feedforward(augmented[i][0]), 2))\n",
        "\n",
        "    # Show label\n",
        "    print('\\nLabel: \\n')\n",
        "    print(augmented[i][1])\n",
        "\n",
        "# check i^th adversarial image\n",
        "check_augmented(239, augmented)"
      ]
    },
    {
      "cell_type": "markdown",
      "metadata": {
        "id": "4J51IMGa7CaV"
      },
      "source": [
        "We can now create a new neural network and train it on our augmented dataset and the original training set, using the original test set to validate."
      ]
    },
    {
      "cell_type": "code",
      "execution_count": 31,
      "metadata": {
        "id": "PTRF8VBs7CaV",
        "colab": {
          "base_uri": "https://localhost:8080/",
          "height": 0
        },
        "outputId": "27a23ba6-9a65-4b4f-da43-e96ace305e9a"
      },
      "outputs": [
        {
          "output_type": "stream",
          "name": "stdout",
          "text": [
            "Epoch 0: 9212 / 10000\n",
            "Epoch 1: 9348 / 10000\n",
            "Epoch 2: 9378 / 10000\n",
            "Epoch 3: 9434 / 10000\n",
            "Epoch 4: 9417 / 10000\n",
            "Epoch 5: 9432 / 10000\n",
            "Epoch 6: 9460 / 10000\n",
            "Epoch 7: 9486 / 10000\n",
            "Epoch 8: 9490 / 10000\n",
            "Epoch 9: 9500 / 10000\n",
            "Epoch 10: 9469 / 10000\n",
            "Epoch 11: 9478 / 10000\n",
            "Epoch 12: 9503 / 10000\n",
            "Epoch 13: 9482 / 10000\n",
            "Epoch 14: 9502 / 10000\n",
            "Epoch 15: 9499 / 10000\n",
            "Epoch 16: 9507 / 10000\n",
            "Epoch 17: 9491 / 10000\n",
            "Epoch 18: 9497 / 10000\n",
            "Epoch 19: 9462 / 10000\n",
            "Epoch 20: 9487 / 10000\n",
            "Epoch 21: 9504 / 10000\n",
            "Epoch 22: 9480 / 10000\n",
            "Epoch 23: 9495 / 10000\n",
            "Epoch 24: 9503 / 10000\n",
            "Epoch 25: 9477 / 10000\n",
            "Epoch 26: 9488 / 10000\n",
            "Epoch 27: 9475 / 10000\n",
            "Epoch 28: 9484 / 10000\n",
            "Epoch 29: 9480 / 10000\n"
          ]
        }
      ],
      "source": [
        "# Create a new network. Use the function provided in the Network.network to create one. For this you'll have to\n",
        "# read the description of the function there.\n",
        "net2 = Network.Network([784, 30, 10])\n",
        "\n",
        "# Train on the augmented + original training set\n",
        "combined_train_data = augmented + training_data\n",
        "random.shuffle(combined_train_data)\n",
        "net2.SGD(combined_train_data, epochs=30, mini_batch_size=10, eta=3.0, test_data=test_data)"
      ]
    },
    {
      "cell_type": "markdown",
      "metadata": {
        "id": "aNBC_lfX7CaV"
      },
      "source": [
        "With a network trained on 50000 adversarial examples in addition to 50000 original training set examples we get about 95% accuracy (it takes quite a long time as well). We can make a test set of adversarial examples by using the following function call:"
      ]
    },
    {
      "cell_type": "code",
      "execution_count": 36,
      "metadata": {
        "id": "CA6Ylhc27CaV",
        "colab": {
          "base_uri": "https://localhost:8080/",
          "height": 0
        },
        "outputId": "01a39c84-ae66-4008-c917-ed3cd30f2823"
      },
      "outputs": [
        {
          "output_type": "stream",
          "name": "stdout",
          "text": [
            "Generated digits: 0\n",
            "Generated digits: 500\n"
          ]
        }
      ],
      "source": [
        "# For some reason the training data has the format: list of tuples\n",
        "# tuple[0] is np array of image\n",
        "# tuple[1] is one hot np array of label\n",
        "# test data is also list of tuples\n",
        "# tuple[0] is np array of image\n",
        "# tuple[1] is integer of label\n",
        "# Just fixing this:\n",
        "normal_test_data = []\n",
        "\n",
        "for i in range(len(test_data)):\n",
        "    ground_truth = test_data[i][1]\n",
        "    one_hot = np.zeros(10)\n",
        "    one_hot[ground_truth] = 1\n",
        "    one_hot = np.expand_dims(one_hot, axis=1)\n",
        "    normal_test_data.append((test_data[i][0], one_hot))\n",
        "\n",
        "\n",
        "# Using normal_test_data because of weird way data is packaged\n",
        "adversarial_test_set = augment_data(1000, normal_test_data, 100)"
      ]
    },
    {
      "cell_type": "markdown",
      "metadata": {
        "id": "DQANnI1n7CaV"
      },
      "source": [
        "Let's checkout the accuracy of our newly trained network on adversarial examples from the new adversarial test set:"
      ]
    },
    {
      "cell_type": "code",
      "execution_count": 37,
      "metadata": {
        "id": "Ik2mwLpX7CaV",
        "colab": {
          "base_uri": "https://localhost:8080/",
          "height": 0
        },
        "outputId": "be9c7211-4069-4fe3-a34b-c14093c91452"
      },
      "outputs": [
        {
          "output_type": "stream",
          "name": "stdout",
          "text": [
            "Accuracy of the new augmented model on the adversarial test set: 0.9470909090909091\n",
            "Accuracy of the new augmented model on the original test set: 0.948\n",
            "Accuracy of the original network on the adversarial test set: 0.8288181818181818\n",
            "Accuracy of the original network on the original test set: 0.8701\n"
          ]
        }
      ],
      "source": [
        "def accuracy(net, test_data):\n",
        "    \"\"\"\n",
        "    net : network object\n",
        "    test_data: list\n",
        "        list of 2-tuples of two arrays, one image and one label (one-hot)\n",
        "    \"\"\"\n",
        "    tot = float(len(test_data))\n",
        "    correct = 0\n",
        "    for data_point in test_data:\n",
        "        x, y = data_point\n",
        "        prediction = net.feedforward(x)\n",
        "        if np.argmax(prediction) == np.argmax(y):\n",
        "            correct += 1\n",
        "\n",
        "    return correct / tot\n",
        "\n",
        "print('Accuracy of the new augmented model on the adversarial test set: ' + str(accuracy(net2, adversarial_test_set)))\n",
        "print('Accuracy of the new augmented model on the original test set: ' + str(accuracy(net2, normal_test_data)))\n",
        "\n",
        "print('Accuracy of the original network on the adversarial test set: ' + str(accuracy(net, adversarial_test_set)))\n",
        "print('Accuracy of the original network on the original test set: ' + str(accuracy(net, normal_test_data)))"
      ]
    },
    {
      "cell_type": "markdown",
      "metadata": {
        "id": "WKjrRMs67CaW"
      },
      "source": [
        "Finally, we'll be implementing a function that compares the original network to the new network on adversarial examples."
      ]
    },
    {
      "cell_type": "code",
      "execution_count": 38,
      "metadata": {
        "id": "W72btATb7CaW"
      },
      "outputs": [],
      "source": [
        "# You'll be implementing a function that compares the original network to the new network. The specifications of\n",
        "# what this function has to achieve has been provided in the pdf.\n",
        "\n",
        "# TODO : Implement a function.\n",
        "def compare(original_net, new_net, adv_example):\n",
        "    # Extract image and label from the adversarial example\n",
        "    x, y = adv_example\n",
        "\n",
        "    # Show image\n",
        "    print('Image: \\n')\n",
        "    plt.imshow(x.reshape(28, 28), cmap='Greys')\n",
        "    plt.show()\n",
        "\n",
        "    # Show original network prediction\n",
        "    print('Original network prediction: \\n')\n",
        "    original_prediction = original_net.feedforward(x)\n",
        "    print(np.round(original_prediction, 2))\n",
        "\n",
        "    # Show new network prediction\n",
        "    print('New network prediction: \\n')\n",
        "    new_prediction = new_net.feedforward(x)\n",
        "    print(np.round(new_prediction, 2))\n",
        "\n",
        "    # Show label\n",
        "    print('\\nLabel: \\n')\n",
        "    print(y)"
      ]
    },
    {
      "cell_type": "code",
      "execution_count": 39,
      "metadata": {
        "id": "89nf9GAn7CaW",
        "colab": {
          "base_uri": "https://localhost:8080/",
          "height": 1044
        },
        "outputId": "6ad628bc-5cf4-4843-cd58-92de8c4e416f"
      },
      "outputs": [
        {
          "output_type": "stream",
          "name": "stdout",
          "text": [
            "Image: \n",
            "\n"
          ]
        },
        {
          "output_type": "display_data",
          "data": {
            "text/plain": [
              "<Figure size 640x480 with 1 Axes>"
            ],
            "image/png": "[encoded data removed]"
          },
          "metadata": {}
        },
        {
          "output_type": "stream",
          "name": "stdout",
          "text": [
            "Original network prediction: \n",
            "\n",
            "[[0.  ]\n",
            " [0.  ]\n",
            " [0.  ]\n",
            " [0.  ]\n",
            " [0.  ]\n",
            " [0.  ]\n",
            " [0.03]\n",
            " [0.  ]\n",
            " [0.  ]\n",
            " [0.  ]]\n",
            "New network prediction: \n",
            "\n",
            "[[0.  ]\n",
            " [0.  ]\n",
            " [0.  ]\n",
            " [0.  ]\n",
            " [0.94]\n",
            " [0.  ]\n",
            " [0.  ]\n",
            " [0.  ]\n",
            " [0.  ]\n",
            " [0.  ]]\n",
            "\n",
            "Label: \n",
            "\n",
            "[[0.]\n",
            " [0.]\n",
            " [0.]\n",
            " [0.]\n",
            " [1.]\n",
            " [0.]\n",
            " [0.]\n",
            " [0.]\n",
            " [0.]\n",
            " [0.]]\n"
          ]
        }
      ],
      "source": [
        "compare(net, net2, augmented[150])"
      ]
    },
    {
      "cell_type": "code",
      "execution_count": 41,
      "metadata": {
        "id": "yndNkucX7CaW",
        "colab": {
          "base_uri": "https://localhost:8080/",
          "height": 1044
        },
        "outputId": "3e6fdfe7-070b-417a-f3c5-dde28c68afce"
      },
      "outputs": [
        {
          "output_type": "stream",
          "name": "stdout",
          "text": [
            "Image: \n",
            "\n"
          ]
        },
        {
          "output_type": "display_data",
          "data": {
            "text/plain": [
              "<Figure size 640x480 with 1 Axes>"
            ],
            "image/png": "[encoded data removed]"
          },
          "metadata": {}
        },
        {
          "output_type": "stream",
          "name": "stdout",
          "text": [
            "Original network prediction: \n",
            "\n",
            "[[0.  ]\n",
            " [0.  ]\n",
            " [0.  ]\n",
            " [0.  ]\n",
            " [0.  ]\n",
            " [0.  ]\n",
            " [0.97]\n",
            " [0.  ]\n",
            " [0.  ]\n",
            " [0.  ]]\n",
            "New network prediction: \n",
            "\n",
            "[[0.  ]\n",
            " [0.  ]\n",
            " [0.  ]\n",
            " [0.  ]\n",
            " [0.93]\n",
            " [0.  ]\n",
            " [0.  ]\n",
            " [0.  ]\n",
            " [0.  ]\n",
            " [0.  ]]\n",
            "\n",
            "Label: \n",
            "\n",
            "[[0.]\n",
            " [0.]\n",
            " [0.]\n",
            " [0.]\n",
            " [1.]\n",
            " [0.]\n",
            " [0.]\n",
            " [0.]\n",
            " [0.]\n",
            " [0.]]\n"
          ]
        }
      ],
      "source": [
        "compare(net, net2, augmented[850])"
      ]
    },
    {
      "cell_type": "markdown",
      "metadata": {
        "id": "8S4KoLnk7CaX"
      },
      "source": [
        "# Assignment 2"
      ]
    },
    {
      "cell_type": "code",
      "execution_count": null,
      "metadata": {
        "id": "MkhDmIHU7CaX"
      },
      "outputs": [],
      "source": [
        "import pandas as pd\n",
        "import torch\n",
        "from torch.utils.data import DataLoader,Dataset\n",
        "from torchvision import datasets, transforms\n",
        "from torchvision.datasets import MNIST\n",
        "\n",
        "from torch import nn\n",
        "import torch.nn.functional as F\n",
        "import numpy as np\n",
        "from tqdm import tqdm\n",
        "import time\n",
        "import os"
      ]
    },
    {
      "cell_type": "code",
      "execution_count": null,
      "metadata": {
        "id": "S-nGbanv7CaX"
      },
      "outputs": [],
      "source": [
        "# download dataset\n",
        "train_data = datasets.MNIST(root=\"./data/\",\n",
        "                            train=True,\n",
        "                            download=True)\n",
        "test_data = datasets.MNIST(root=\"./data/\",\n",
        "                               train=False,\n",
        "                               download=True)"
      ]
    },
    {
      "cell_type": "markdown",
      "metadata": {
        "id": "_OikhQ_07CaX"
      },
      "source": [
        "We will implement the below class to poison the MNST dataset, the argument target is the target label chosen by the attacker, portion is the poisoned rate, i.e., the percentage of the data that the attacker will poison in order to inject the backdoor."
      ]
    },
    {
      "cell_type": "code",
      "execution_count": null,
      "metadata": {
        "id": "YkEXvNkC7CaX"
      },
      "outputs": [],
      "source": [
        "class MyDataset(Dataset):\n",
        "\n",
        "    def __init__(self, dataset, target, portion=0.1, mode=\"train\", device=torch.device(\"cuda\")):\n",
        "        self.dataset = self.addTrigger(dataset, target, portion)\n",
        "        self.device = device\n",
        "\n",
        "    def __getitem__(self, item):\n",
        "        img = self.dataset[item][0]\n",
        "        img = img[..., np.newaxis]\n",
        "        img = torch.Tensor(img).permute(2, 0, 1)\n",
        "        label = np.zeros(10)\n",
        "        label[self.dataset[item][1]] = 1\n",
        "        label = torch.Tensor(label)\n",
        "        img = img.to(self.device)\n",
        "        label = label.to(self.device)\n",
        "        return img, label\n",
        "\n",
        "    def __len__(self):\n",
        "        return len(self.dataset)\n",
        "\n",
        "    def addTrigger(self, dataset, target, portion):\n",
        "        # randomly select part of the data to poison, according to the poisoned portion you set\n",
        "        perm = np.random.choice(len(dataset), int(len(dataset) * portion), replace=False)\n",
        "        dataset_ = []\n",
        "        # count the number of poisoned data\n",
        "        cnt = 0\n",
        "        for i in tqdm(range(len(dataset))):\n",
        "            data = dataset[i]\n",
        "            img = np.array(data[0])\n",
        "            width = img.shape[0]\n",
        "            height = img.shape[1]\n",
        "            if i in perm:\n",
        "                # poisoned the image by adding the trigger\n",
        "                trigger = np.ones((3, 3)) * 255  # All-white 3*3 square patch\n",
        "                img[width - 3:, height - 3:] = trigger\n",
        "                # Add the poisoned image and the target to the dataset_\n",
        "                dataset_.append((img, target))\n",
        "                cnt += 1\n",
        "            else:\n",
        "                dataset_.append((img, data[1]))\n",
        "\n",
        "        time.sleep(0.1)\n",
        "        print(\"Injecting Over: \" + str(cnt) + \" Bad Imgs, \" + str(len(dataset) - cnt) + \" Clean Imgs\")\n",
        "        return dataset_"
      ]
    },
    {
      "cell_type": "code",
      "execution_count": null,
      "metadata": {
        "id": "FxfiSpYO7CaX",
        "colab": {
          "base_uri": "https://localhost:8080/"
        },
        "outputId": "ed524f1e-c801-4563-9b7e-c34d84f39123"
      },
      "outputs": [
        {
          "output_type": "stream",
          "name": "stderr",
          "text": [
            "100%|██████████| 60000/60000 [00:04<00:00, 12409.96it/s]\n"
          ]
        },
        {
          "output_type": "stream",
          "name": "stdout",
          "text": [
            "Injecting Over: 6000 Bad Imgs, 54000 Clean Imgs\n"
          ]
        },
        {
          "output_type": "stream",
          "name": "stderr",
          "text": [
            "100%|██████████| 10000/10000 [00:00<00:00, 19389.99it/s]\n"
          ]
        },
        {
          "output_type": "stream",
          "name": "stdout",
          "text": [
            "Injecting Over: 0 Bad Imgs, 10000 Clean Imgs\n"
          ]
        },
        {
          "output_type": "stream",
          "name": "stderr",
          "text": [
            "100%|██████████| 10000/10000 [00:00<00:00, 13799.71it/s]\n"
          ]
        },
        {
          "output_type": "stream",
          "name": "stdout",
          "text": [
            "Injecting Over: 10000 Bad Imgs, 0 Clean Imgs\n"
          ]
        }
      ],
      "source": [
        "# set the target to be 0\n",
        "device = torch.device(\"cuda\" if torch.cuda.is_available() else \"cpu\")\n",
        "\n",
        "train_data = MyDataset(train_data, 0, portion=0.1, device=device)\n",
        "test_data_orig = MyDataset(test_data, 0, portion=0, device=device)\n",
        "test_data_trig = MyDataset(test_data, 0, portion=1, device=device)\n",
        "\n",
        "batch_size = 64\n",
        "\n",
        "# create dataloader for the above three dataset\n",
        "train_loader = DataLoader(train_data, batch_size=64, shuffle=True)\n",
        "test_loader_orig = DataLoader(test_data_orig, batch_size=64, shuffle=False)\n",
        "test_loader_trig = DataLoader(test_data_trig, batch_size=64, shuffle=False)\n"
      ]
    },
    {
      "cell_type": "code",
      "execution_count": null,
      "metadata": {
        "id": "9-8OzS4y7CaX"
      },
      "outputs": [],
      "source": [
        "class BadNet(nn.Module):\n",
        "\n",
        "    def __init__(self):\n",
        "        super().__init__()\n",
        "        self.conv1 = nn.Conv2d(1, 16, 5)\n",
        "        self.conv2 = nn.Conv2d(16, 32, 5)\n",
        "        self.pool = nn.AvgPool2d(2)\n",
        "        self.fc1 = nn.Linear(512, 512)\n",
        "        self.fc2 = nn.Linear(512, 10)\n",
        "\n",
        "    def forward(self, x):\n",
        "        x = self.conv1(x)\n",
        "        x = F.relu(x)\n",
        "        x = self.pool(x)\n",
        "        x = self.conv2(x)\n",
        "        x = F.relu(x)\n",
        "        x = self.pool(x)\n",
        "        x = x.view(-1, self.num_f(x))\n",
        "        x = self.fc1(x)\n",
        "        x = F.relu(x)\n",
        "        x = self.fc2(x)\n",
        "        x = F.softmax(x, dim=1)\n",
        "        return x\n",
        "\n",
        "    def num_f(self, x):\n",
        "        size = x.size()[1:]\n",
        "        ret = 1\n",
        "        for i in size:\n",
        "            ret *= i\n",
        "        return ret"
      ]
    },
    {
      "cell_type": "code",
      "execution_count": null,
      "metadata": {
        "id": "EKrfc5PH7CaX"
      },
      "outputs": [],
      "source": [
        "import torch.optim as optim\n",
        "device = torch.device(\"cuda\") if torch.cuda.is_available() else torch.device(\"cpu\")\n",
        "badnet = BadNet().to(device)\n",
        "# define the loss and optimizer\n",
        "criterion = nn.CrossEntropyLoss()\n",
        "optimizer = torch.optim.Adam(badnet.parameters(), lr=0.001)\n",
        "epoch = 20"
      ]
    },
    {
      "cell_type": "code",
      "execution_count": null,
      "metadata": {
        "id": "3yECDDPF7CaY",
        "colab": {
          "base_uri": "https://localhost:8080/"
        },
        "outputId": "9584f8e1-acdb-4d16-e0a3-180122b8341d"
      },
      "outputs": [
        {
          "output_type": "stream",
          "name": "stdout",
          "text": [
            "start training: \n",
            "epoch 1   loss: 1.53791  training accuracy: 0.86960  testing Orig accuracy: 0.86230  testing Trig accuracy: 0.99430\n",
            "epoch 2   loss: 1.52358  training accuracy: 0.97803  testing Orig accuracy: 0.97660  testing Trig accuracy: 0.99580\n",
            "epoch 3   loss: 1.49240  training accuracy: 0.97342  testing Orig accuracy: 0.96950  testing Trig accuracy: 0.98950\n",
            "epoch 4   loss: 1.49240  training accuracy: 0.98418  testing Orig accuracy: 0.98070  testing Trig accuracy: 0.99970\n",
            "epoch 5   loss: 1.46115  training accuracy: 0.98163  testing Orig accuracy: 0.97800  testing Trig accuracy: 0.99980\n",
            "epoch 6   loss: 1.55490  training accuracy: 0.96897  testing Orig accuracy: 0.96930  testing Trig accuracy: 0.95910\n",
            "epoch 7   loss: 1.46160  training accuracy: 0.97472  testing Orig accuracy: 0.97280  testing Trig accuracy: 0.99960\n",
            "epoch 8   loss: 1.46115  training accuracy: 0.97093  testing Orig accuracy: 0.96390  testing Trig accuracy: 0.99550\n",
            "epoch 9   loss: 1.52365  training accuracy: 0.98313  testing Orig accuracy: 0.97840  testing Trig accuracy: 0.99730\n",
            "epoch 10   loss: 1.49240  training accuracy: 0.98358  testing Orig accuracy: 0.97910  testing Trig accuracy: 0.99900\n",
            "epoch 11   loss: 1.49240  training accuracy: 0.98283  testing Orig accuracy: 0.98140  testing Trig accuracy: 0.99950\n",
            "epoch 12   loss: 1.46115  training accuracy: 0.98470  testing Orig accuracy: 0.98350  testing Trig accuracy: 0.99900\n",
            "epoch 13   loss: 1.49240  training accuracy: 0.98535  testing Orig accuracy: 0.98240  testing Trig accuracy: 0.99480\n",
            "epoch 14   loss: 1.52362  training accuracy: 0.97162  testing Orig accuracy: 0.96630  testing Trig accuracy: 0.99940\n",
            "epoch 15   loss: 1.49238  training accuracy: 0.98218  testing Orig accuracy: 0.97960  testing Trig accuracy: 0.99870\n",
            "epoch 16   loss: 1.46115  training accuracy: 0.98222  testing Orig accuracy: 0.98160  testing Trig accuracy: 0.99500\n",
            "epoch 17   loss: 1.46115  training accuracy: 0.97533  testing Orig accuracy: 0.97220  testing Trig accuracy: 0.99820\n",
            "epoch 18   loss: 1.49240  training accuracy: 0.97162  testing Orig accuracy: 0.96880  testing Trig accuracy: 0.99680\n",
            "epoch 19   loss: 1.46115  training accuracy: 0.98057  testing Orig accuracy: 0.97830  testing Trig accuracy: 0.99540\n",
            "epoch 20   loss: 1.46115  training accuracy: 0.97678  testing Orig accuracy: 0.97420  testing Trig accuracy: 0.99840\n"
          ]
        }
      ],
      "source": [
        "print(\"start training: \")\n",
        "\n",
        "for i in range(epoch):\n",
        "    for inputs, labels in train_loader:\n",
        "        optimizer.zero_grad()\n",
        "        outputs = badnet(inputs)\n",
        "        loss_train = criterion(outputs, labels.argmax(dim=1))\n",
        "        loss_train.backward()\n",
        "        optimizer.step()\n",
        "\n",
        "    # compute the training accuracy\n",
        "    correct_train = 0\n",
        "    total_train = 0\n",
        "    with torch.no_grad():\n",
        "        badnet.eval()\n",
        "        for inputs, labels in train_loader:\n",
        "            inputs, labels = inputs.to(device), labels.to(device)\n",
        "            outputs = badnet(inputs)\n",
        "            _, predicted = torch.max(outputs.data, 1)\n",
        "            total_train += labels.size(0)\n",
        "            correct_train += (predicted == labels.argmax(dim=1)).sum().item()\n",
        "    acc_train = correct_train / total_train\n",
        "\n",
        "    # compute the testing accuracy on all poisoned testing data\n",
        "    correct_test_trig = 0\n",
        "    total_test_trig = 0\n",
        "    with torch.no_grad():\n",
        "        for inputs, labels in test_loader_trig:\n",
        "            inputs, labels = inputs.to(device), labels.to(device)\n",
        "            outputs = badnet(inputs)\n",
        "            _, predicted = torch.max(outputs.data, 1)\n",
        "            total_test_trig += labels.size(0)\n",
        "            correct_test_trig += (predicted == labels.argmax(dim=1)).sum().item()\n",
        "    acc_test_trig = correct_test_trig / total_test_trig\n",
        "\n",
        "    # compute the clean testing accuracy\n",
        "    correct_test_clean = 0\n",
        "    total_test_clean = 0\n",
        "    with torch.no_grad():\n",
        "        for inputs, labels in test_loader_orig:\n",
        "            inputs, labels = inputs.to(device), labels.to(device)\n",
        "            outputs = badnet(inputs)\n",
        "            _, predicted = torch.max(outputs.data, 1)\n",
        "            total_test_clean += labels.size(0)\n",
        "            correct_test_clean += (predicted == labels.argmax(dim=1)).sum().item()\n",
        "    acc_test_clean = correct_test_clean / total_test_clean\n",
        "\n",
        "    print(\"epoch %d   loss: %.5f  training accuracy: %.5f  testing Orig accuracy: %.5f  testing Trig accuracy: %.5f\" \\\n",
        "          % (i + 1, loss_train.item(), acc_train, acc_test_clean, acc_test_trig))\n",
        "\n",
        "    # Save the model after each epoch\n",
        "\n",
        "    # Create the directory if it doesn't exist\n",
        "    save_dir = \"./models/\"\n",
        "    os.makedirs(save_dir, exist_ok=True)\n",
        "    model_path = os.path.join(save_dir, f\"badnet_epoch{i + 1}.pth\")\n",
        "    torch.save(badnet.state_dict(), model_path)\n"
      ]
    },
    {
      "cell_type": "markdown",
      "metadata": {
        "id": "6NSOvmsY7CaY"
      },
      "source": [
        "Attack success rate(ASR):  the proportion of images stamped with triggers that are classified as the target class among all images stamped with triggers. You can get the ASR by computing the accuracy on test_data_trig.\n",
        "\n",
        "Clean accuracy: the accuracy of the model on clean images. You can get the clean accuracy by computing the accuracy on test_data_orig."
      ]
    },
    {
      "cell_type": "code",
      "execution_count": null,
      "metadata": {
        "id": "aDNqdDgs7CaY",
        "colab": {
          "base_uri": "https://localhost:8080/"
        },
        "outputId": "de7434ca-b022-4e86-95ba-4470d8b5dfb4"
      },
      "outputs": [
        {
          "output_type": "stream",
          "name": "stdout",
          "text": [
            "Attack Success Rate (ASR): 0.99840\n",
            "Clean Accuracy: 0.97420\n"
          ]
        }
      ],
      "source": [
        "# Evaluate on clean data (test_data_orig)\n",
        "correct_clean = 0\n",
        "total_clean = 0\n",
        "with torch.no_grad():\n",
        "    for inputs, labels in test_loader_orig:\n",
        "        inputs, labels = inputs.to(device), labels.to(device)\n",
        "        outputs = badnet(inputs)\n",
        "        _, predicted = torch.max(outputs.data, 1)\n",
        "        total_clean += labels.size(0)\n",
        "        correct_clean += (predicted == labels.argmax(dim=1)).sum().item()  # Use argmax to compare with class indices\n",
        "clean_acc = correct_clean / total_clean\n",
        "\n",
        "# Evaluate on poisoned data (test_data_trig) to compute ASR\n",
        "correct_trig = 0\n",
        "total_trig = 0\n",
        "with torch.no_grad():\n",
        "    for inputs, labels in test_loader_trig:\n",
        "        inputs, labels = inputs.to(device), labels.to(device)\n",
        "        outputs = badnet(inputs)\n",
        "        _, predicted = torch.max(outputs.data, 1)\n",
        "        total_trig += labels.size(0)\n",
        "        correct_trig += (predicted == labels.argmax(dim=1)).sum().item()  # Use argmax to compare with class indices\n",
        "asr = correct_trig / total_trig\n",
        "\n",
        "print(\"Attack Success Rate (ASR): %.5f\" % asr)\n",
        "print(\"Clean Accuracy: %.5f\" % clean_acc)"
      ]
    },
    {
      "cell_type": "code",
      "execution_count": null,
      "metadata": {
        "id": "-sJHgbtf7CaY",
        "colab": {
          "base_uri": "https://localhost:8080/",
          "height": 923
        },
        "outputId": "416cd844-3279-4ff1-feda-6ee2fdd2680a"
      },
      "outputs": [
        {
          "output_type": "display_data",
          "data": {
            "text/plain": [
              "<Figure size 640x480 with 1 Axes>"
            ],
            "image/png": "[encoded data removed]"
          },
          "metadata": {}
        },
        {
          "output_type": "display_data",
          "data": {
            "text/plain": [
              "<Figure size 640x480 with 1 Axes>"
            ],
            "image/png": "[encoded data removed]"
          },
          "metadata": {}
        },
        {
          "output_type": "stream",
          "name": "stdout",
          "text": [
            "Clean Prediction: 8\n",
            "Backdoor Prediction: 0\n"
          ]
        }
      ],
      "source": [
        "import random\n",
        "import matplotlib.pyplot as plt\n",
        "\n",
        "# Randomly select one image from test data\n",
        "image, label = random.choice(test_loader_orig.dataset)\n",
        "\n",
        "# Convert the selected image to the appropriate format (if needed)\n",
        "image = image.unsqueeze(0).to(device)\n",
        "\n",
        "badnet.eval()\n",
        "# Get the prediction of your Badnet on this image without adding a trigger\n",
        "clean_prediction = badnet(image).argmax().item()\n",
        "\n",
        "image_with_trigger, _ = random.choice(test_loader_trig.dataset)\n",
        "image_with_trigger = image_with_trigger.unsqueeze(0).to(device)\n",
        "\n",
        "# Get the prediction of your Badnet on this image after adding a trigger\n",
        "backdoor_prediction = badnet(image_with_trigger).argmax().item()\n",
        "# Display the original image\n",
        "plt.imshow(image.squeeze().cpu().numpy(), cmap='gray')\n",
        "plt.title(\"Original Image\")\n",
        "plt.show()\n",
        "\n",
        "# Display the image with the trigger\n",
        "plt.imshow(image_with_trigger.squeeze().cpu().numpy(), cmap='gray')\n",
        "plt.title(\"Image with Trigger\")\n",
        "plt.show()\n",
        "\n",
        "\n",
        "print(\"Clean Prediction: %d\" % clean_prediction)\n",
        "print(\"Backdoor Prediction: %d\" % backdoor_prediction)"
      ]
    },
    {
      "cell_type": "code",
      "execution_count": null,
      "metadata": {
        "id": "s5JHZupt7CaY"
      },
      "outputs": [],
      "source": []
    }
  ],
  "metadata": {
    "accelerator": "GPU",
    "colab": {
      "provenance": [],
      "gpuType": "T4"
    },
    "kernelspec": {
      "display_name": "Python 3",
      "name": "python3"
    },
    "language_info": {
      "codemirror_mode": {
        "name": "ipython",
        "version": 3
      },
      "file_extension": ".py",
      "mimetype": "text/x-python",
      "name": "python",
      "nbconvert_exporter": "python",
      "pygments_lexer": "ipython3",
      "version": "3.9.6"
    }
  },
  "nbformat": 4,
  "nbformat_minor": 0
}